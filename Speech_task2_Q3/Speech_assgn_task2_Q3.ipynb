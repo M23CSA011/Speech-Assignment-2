{
  "nbformat": 4,
  "nbformat_minor": 0,
  "metadata": {
    "colab": {
      "provenance": []
    },
    "kernelspec": {
      "name": "python3",
      "display_name": "Python 3"
    },
    "language_info": {
      "name": "python"
    }
  },
  "cells": [
    {
      "cell_type": "code",
      "execution_count": null,
      "metadata": {
        "id": "TiXEq3e91dvx"
      },
      "outputs": [],
      "source": [
        "%%capture\n",
        "!pip install pyloudnorm\n",
        "!pip install pysndfx\n",
        "!pip install speechbrain\n",
        "!pip install transformers\n",
        "!pip install speechbrain.pretrained\n",
        "!pip install torchmetrics"
      ]
    },
    {
      "cell_type": "code",
      "source": [
        "import os\n",
        "from multiprocessing import Process\n",
        "import subprocess\n",
        "import glob\n",
        "\n",
        "import random\n",
        "import warnings\n",
        "import tarfile\n",
        "\n",
        "import numpy as np\n",
        "import pandas as pd\n",
        "import pyloudnorm as pyln\n",
        "import soundfile as sf\n",
        "import tqdm as tqdm_module\n",
        "import zipfile\n",
        "\n",
        "import tqdm.contrib.concurrent\n",
        "import functools\n",
        "from pysndfx import AudioEffectsChain\n",
        "\n",
        "import librosa\n",
        "\n",
        "import torchaudio\n",
        "import torch\n",
        "import torch.nn as nn\n",
        "from torch.utils.data import Dataset,DataLoader\n",
        "import torchaudio.transforms as T\n",
        "import torchmetrics\n",
        "\n",
        "from IPython.display import Audio\n",
        "\n",
        "import speechbrain as sb\n",
        "from speechbrain.dataio.dataio import read_audio\n",
        "from IPython.display import Audio\n",
        "from speechbrain.inference.separation import SepformerSeparation as separator\n",
        "\n",
        "from torchmetrics.audio import ScaleInvariantSignalNoiseRatio\n",
        "from torchmetrics.audio import ScaleInvariantSignalDistortionRatio"
      ],
      "metadata": {
        "id": "_lkbU_9k1qGd"
      },
      "execution_count": null,
      "outputs": []
    },
    {
      "cell_type": "code",
      "source": [
        "!unzip /content/drive/MyDrive/LibriMix.zip"
      ],
      "metadata": {
        "id": "TcAQTwdZ1sJ9"
      },
      "execution_count": null,
      "outputs": []
    },
    {
      "cell_type": "code",
      "source": [
        "!unzip /content/drive/MyDrive/speechtask3.zip"
      ],
      "metadata": {
        "id": "FKZoH5BH1uam"
      },
      "execution_count": null,
      "outputs": []
    },
    {
      "cell_type": "code",
      "source": [
        "!pip install -r ../content/WSJ0Mix/extra_requirements.txt"
      ],
      "metadata": {
        "id": "HVzwqqzb1vOz"
      },
      "execution_count": null,
      "outputs": []
    },
    {
      "cell_type": "code",
      "source": [
        "!python /content/WSJ0Mix/separation/train.py /content/WSJ0Mix/separation/hparams/sepformer.yaml --data_folder /content"
      ],
      "metadata": {
        "id": "YTTBic8z10CZ"
      },
      "execution_count": null,
      "outputs": []
    }
  ]
}